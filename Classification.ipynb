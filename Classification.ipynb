{
  "nbformat": 4,
  "nbformat_minor": 0,
  "metadata": {
    "colab": {
      "name": "Classification.ipynb",
      "provenance": [],
      "collapsed_sections": [],
      "authorship_tag": "ABX9TyM4jt5U8s+lAEXoqeMevc7o",
      "include_colab_link": true
    },
    "kernelspec": {
      "name": "python3",
      "display_name": "Python 3"
    },
    "accelerator": "GPU"
  },
  "cells": [
    {
      "cell_type": "markdown",
      "metadata": {
        "id": "view-in-github",
        "colab_type": "text"
      },
      "source": [
        "<a href=\"https://colab.research.google.com/github/MakiResearchTeam/MakiFlow-Tutorials/blob/master/Classification.ipynb\" target=\"_parent\"><img src=\"https://colab.research.google.com/assets/colab-badge.svg\" alt=\"Open In Colab\"/></a>"
      ]
    },
    {
      "cell_type": "code",
      "metadata": {
        "id": "6EVONWAxroD3",
        "colab_type": "code",
        "colab": {
          "base_uri": "https://localhost:8080/",
          "height": 289
        },
        "outputId": "97b44801-c426-4b8d-9628-28722c6e7b9c"
      },
      "source": [
        "!pip install --upgrade git+https://github.com/oKatanaaa/MakiFlow.git@beta_v1.0"
      ],
      "execution_count": 1,
      "outputs": [
        {
          "output_type": "stream",
          "text": [
            "Collecting git+https://github.com/oKatanaaa/MakiFlow.git@beta_v1.0\n",
            "  Cloning https://github.com/oKatanaaa/MakiFlow.git (to revision beta_v1.0) to /tmp/pip-req-build-kcwle5c_\n",
            "  Running command git clone -q https://github.com/oKatanaaa/MakiFlow.git /tmp/pip-req-build-kcwle5c_\n",
            "  Running command git checkout -b beta_v1.0 --track origin/beta_v1.0\n",
            "  Switched to a new branch 'beta_v1.0'\n",
            "  Branch 'beta_v1.0' set up to track remote branch 'beta_v1.0' from 'origin'.\n",
            "Building wheels for collected packages: MakiFlow\n",
            "  Building wheel for MakiFlow (setup.py) ... \u001b[?25l\u001b[?25hdone\n",
            "  Created wheel for MakiFlow: filename=MakiFlow-1.2.0-cp36-none-any.whl size=279365 sha256=d5a02d94abd04bf1a1eadc2aa6a204184a25e93cdd93de3838973cefa7d907aa\n",
            "  Stored in directory: /tmp/pip-ephem-wheel-cache-gn7f4vkd/wheels/dc/a4/48/64e0bbd730bde4ea9ba884251181add2fd1a99b176a97fc153\n",
            "Successfully built MakiFlow\n",
            "Installing collected packages: MakiFlow\n",
            "  Found existing installation: MakiFlow 1.2.0\n",
            "    Uninstalling MakiFlow-1.2.0:\n",
            "      Successfully uninstalled MakiFlow-1.2.0\n",
            "Successfully installed MakiFlow-1.2.0\n"
          ],
          "name": "stdout"
        }
      ]
    },
    {
      "cell_type": "code",
      "metadata": {
        "id": "owS-1uW5rwAy",
        "colab_type": "code",
        "colab": {
          "base_uri": "https://localhost:8080/",
          "height": 34
        },
        "outputId": "57a1bf06-f20c-4a67-db4f-3bce26ec35c8"
      },
      "source": [
        "%tensorflow_version 1.x"
      ],
      "execution_count": 2,
      "outputs": [
        {
          "output_type": "stream",
          "text": [
            "TensorFlow 1.x selected.\n"
          ],
          "name": "stdout"
        }
      ]
    },
    {
      "cell_type": "code",
      "metadata": {
        "id": "eO0uqZ5CCX1Q",
        "colab_type": "code",
        "colab": {}
      },
      "source": [
        "# Download and preprocess data"
      ],
      "execution_count": 3,
      "outputs": []
    },
    {
      "cell_type": "code",
      "metadata": {
        "id": "C7MAOYsR-txI",
        "colab_type": "code",
        "colab": {
          "base_uri": "https://localhost:8080/",
          "height": 34
        },
        "outputId": "50af643a-763b-4df3-d1a0-2b859a3d343e"
      },
      "source": [
        "from keras.datasets import cifar10\n",
        "import numpy as np\n",
        "import tensorflow as tf"
      ],
      "execution_count": 4,
      "outputs": [
        {
          "output_type": "stream",
          "text": [
            "Using TensorFlow backend.\n"
          ],
          "name": "stderr"
        }
      ]
    },
    {
      "cell_type": "code",
      "metadata": {
        "id": "6e1sY7O__LS9",
        "colab_type": "code",
        "colab": {}
      },
      "source": [
        "(Xtrain, Ytrain), (Xtest, Ytest) = cifar10.load_data()"
      ],
      "execution_count": 5,
      "outputs": []
    },
    {
      "cell_type": "code",
      "metadata": {
        "id": "6Pam_HCe_PbJ",
        "colab_type": "code",
        "colab": {}
      },
      "source": [
        "X_mean, X_std = Xtrain.mean(axis=(0, 1, 2)), Xtrain.std(axis=(0, 1, 2))\n",
        "\n",
        "Xtrain = (Xtrain - X_mean) / X_std\n",
        "Xtest = (Xtest - X_mean) / X_std\n",
        "\n",
        "Ytrain = Ytrain.reshape(-1)\n",
        "Ytest = Ytest.reshape(-1)"
      ],
      "execution_count": 6,
      "outputs": []
    },
    {
      "cell_type": "markdown",
      "metadata": {
        "id": "67aKmGqXCeNN",
        "colab_type": "text"
      },
      "source": [
        "# Create a model"
      ]
    },
    {
      "cell_type": "code",
      "metadata": {
        "id": "jC7pkGAd_t6S",
        "colab_type": "code",
        "colab": {
          "base_uri": "https://localhost:8080/",
          "height": 85
        },
        "outputId": "32b565cf-b39c-4dbe-9379-6c2588db4b65"
      },
      "source": [
        "from makiflow.layers import *\n",
        "from makiflow.models import Classificator"
      ],
      "execution_count": 7,
      "outputs": [
        {
          "output_type": "stream",
          "text": [
            "WARNING:tensorflow:From /usr/local/lib/python3.6/dist-packages/makiflow/base/maki_entities/maki_model.py:63: The name tf.Session is deprecated. Please use tf.compat.v1.Session instead.\n",
            "\n"
          ],
          "name": "stdout"
        },
        {
          "output_type": "stream",
          "text": [
            "/usr/local/lib/python3.6/dist-packages/statsmodels/tools/_testing.py:19: FutureWarning: pandas.util.testing is deprecated. Use the functions in the public API at pandas.testing instead.\n",
            "  import pandas.util.testing as tm\n"
          ],
          "name": "stderr"
        }
      ]
    },
    {
      "cell_type": "code",
      "metadata": {
        "id": "7XiTGJGr_2cm",
        "colab_type": "code",
        "colab": {
          "base_uri": "https://localhost:8080/",
          "height": 343
        },
        "outputId": "8923097f-110f-409f-f33d-0e5280fe11b6"
      },
      "source": [
        "# Each layer requires a name. It is needed to track each one of them for weights storing\n",
        "# and some other graph operations.\n",
        "inp = InputLayer(input_shape=[64, 32, 32, 3], name='input')\n",
        "\n",
        "# MakiFlow is quite low-level compare to Keras. All the dimensionalities must be declared explicitly.\n",
        "x = ConvLayer(kw=3, kh=3, in_f=3, out_f=32, name='conv1_1')(inp)\n",
        "x = BatchNormLayer(D=32, name='bn1_1')(x)\n",
        "x = ConvLayer(kw=3, kh=3, in_f=32, out_f=32, name='conv1_2')(x)\n",
        "x = BatchNormLayer(D=32, name='bn1_2')(x)\n",
        "x = MaxPoolLayer(name='mp1')(x)\n",
        "\n",
        "# 16x16\n",
        "\n",
        "# You can use other tensorflow activation functions.\n",
        "# tf.nn.relu is used by default.\n",
        "x = ConvLayer(kw=3, kh=3, in_f=32, out_f=64, activation=tf.nn.leaky_relu, name='conv2_1')(x)\n",
        "x = BatchNormLayer(D=64, name='bn2_1')(x)\n",
        "x = ConvLayer(kw=3, kh=3, in_f=64, out_f=64, activation=tf.nn.leaky_relu, name='conv2_2')(x)\n",
        "x = BatchNormLayer(D=64, name='bn2_2')(x)\n",
        "x = MaxPoolLayer(name='mp2')(x)\n",
        "\n",
        "# 8x8\n",
        "\n",
        "x = ConvLayer(kw=3, kh=3, in_f=64, out_f=128, name='conv3_1')(x)\n",
        "x = BatchNormLayer(D=128, name='bn3_1')(x)\n",
        "x = ConvLayer(kw=3, kh=3, in_f=128, out_f=128, name='conv3_2')(x)\n",
        "x = BatchNormLayer(D=128, name='bn3_2')(x)\n",
        "x = MaxPoolLayer(name='mp3')(x)\n",
        "\n",
        "# 4x4\n",
        "\n",
        "x = FlattenLayer(name='flatten')(x)\n",
        "x = DenseLayer(in_d=4*4*128, out_d=256, name='dense1')(x)\n",
        "x = BatchNormLayer(D=256, name='bn4_1')(x)\n",
        "# At the last layer of the classifier there must be no activation. \n",
        "# This is required for correct training.\n",
        "x = DenseLayer(in_d=256, out_d=10, name='dense2', activation=None)(x)"
      ],
      "execution_count": 8,
      "outputs": [
        {
          "output_type": "stream",
          "text": [
            "WARNING:tensorflow:From /usr/local/lib/python3.6/dist-packages/makiflow/layers/untrainable_layers.py:44: The name tf.placeholder is deprecated. Please use tf.compat.v1.placeholder instead.\n",
            "\n",
            "WARNING:tensorflow:From /usr/local/lib/python3.6/dist-packages/makiflow/layers/untrainable_layers.py:492: The name tf.nn.max_pool is deprecated. Please use tf.nn.max_pool2d instead.\n",
            "\n",
            "WARNING:tensorflow:\n",
            "The TensorFlow contrib module will not be included in TensorFlow 2.0.\n",
            "For more information, please see:\n",
            "  * https://github.com/tensorflow/community/blob/master/rfcs/20180907-contrib-sunset.md\n",
            "  * https://github.com/tensorflow/addons\n",
            "  * https://github.com/tensorflow/io (for I/O related ops)\n",
            "If you depend on functionality not listed there, please file an issue.\n",
            "\n",
            "WARNING:tensorflow:From /tensorflow-1.15.2/python3.6/tensorflow_core/contrib/layers/python/layers/layers.py:1634: flatten (from tensorflow.python.layers.core) is deprecated and will be removed in a future version.\n",
            "Instructions for updating:\n",
            "Use keras.layers.flatten instead.\n",
            "WARNING:tensorflow:From /tensorflow-1.15.2/python3.6/tensorflow_core/python/layers/core.py:332: Layer.apply (from tensorflow.python.keras.engine.base_layer) is deprecated and will be removed in a future version.\n",
            "Instructions for updating:\n",
            "Please use `layer.__call__` method instead.\n"
          ],
          "name": "stdout"
        }
      ]
    },
    {
      "cell_type": "code",
      "metadata": {
        "id": "fLT3_m-4_6qU",
        "colab_type": "code",
        "colab": {}
      },
      "source": [
        "model = Classificator(input=inp, output=x)"
      ],
      "execution_count": 9,
      "outputs": []
    },
    {
      "cell_type": "code",
      "metadata": {
        "id": "_VE-NZu0BHLh",
        "colab_type": "code",
        "colab": {}
      },
      "source": [
        "sess = tf.Session()"
      ],
      "execution_count": 10,
      "outputs": []
    },
    {
      "cell_type": "code",
      "metadata": {
        "id": "-BE5lfhnB2Uh",
        "colab_type": "code",
        "colab": {}
      },
      "source": [
        "model.set_session(sess)"
      ],
      "execution_count": 14,
      "outputs": []
    },
    {
      "cell_type": "code",
      "metadata": {
        "id": "2UJyKTa0B8p3",
        "colab_type": "code",
        "colab": {}
      },
      "source": [
        "opt = tf.train.AdamOptimizer()"
      ],
      "execution_count": 15,
      "outputs": []
    },
    {
      "cell_type": "code",
      "metadata": {
        "id": "UifI10L-B4Wl",
        "colab_type": "code",
        "colab": {
          "base_uri": "https://localhost:8080/",
          "height": 289
        },
        "outputId": "eaec14fd-39be-4121-9050-f9e76083eed9"
      },
      "source": [
        "info = model.fit_ce(Xtrain, Ytrain, Xtest, Ytest, optimizer=opt, epochs=5)"
      ],
      "execution_count": 16,
      "outputs": [
        {
          "output_type": "stream",
          "text": [
            "New optimizer is used.\n"
          ],
          "name": "stdout"
        },
        {
          "output_type": "stream",
          "text": [
            "100%|██████████| 781/781 [00:28<00:00, 27.80it/s]\n",
            "100%|██████████| 156/156 [00:01<00:00, 113.39it/s]\n"
          ],
          "name": "stderr"
        },
        {
          "output_type": "stream",
          "text": [
            "Epoch: 0 Train Loss: 0.9041 Test Accuracy: 0.6743 Test Loss: 0.9139 \n"
          ],
          "name": "stdout"
        },
        {
          "output_type": "stream",
          "text": [
            "100%|██████████| 781/781 [00:27<00:00, 28.34it/s]\n",
            "100%|██████████| 156/156 [00:01<00:00, 112.15it/s]\n"
          ],
          "name": "stderr"
        },
        {
          "output_type": "stream",
          "text": [
            "Epoch: 1 Train Loss: 0.6800 Test Accuracy: 0.7431 Test Loss: 0.7410 \n"
          ],
          "name": "stdout"
        },
        {
          "output_type": "stream",
          "text": [
            "100%|██████████| 781/781 [00:27<00:00, 28.22it/s]\n",
            "100%|██████████| 156/156 [00:01<00:00, 112.07it/s]\n"
          ],
          "name": "stderr"
        },
        {
          "output_type": "stream",
          "text": [
            "Epoch: 2 Train Loss: 0.5951 Test Accuracy: 0.7628 Test Loss: 0.6818 \n"
          ],
          "name": "stdout"
        },
        {
          "output_type": "stream",
          "text": [
            "100%|██████████| 781/781 [00:27<00:00, 28.21it/s]\n",
            "100%|██████████| 156/156 [00:01<00:00, 112.91it/s]\n"
          ],
          "name": "stderr"
        },
        {
          "output_type": "stream",
          "text": [
            "Epoch: 3 Train Loss: 0.5156 Test Accuracy: 0.7777 Test Loss: 0.6443 \n"
          ],
          "name": "stdout"
        },
        {
          "output_type": "stream",
          "text": [
            "100%|██████████| 781/781 [00:27<00:00, 28.17it/s]\n",
            "100%|██████████| 156/156 [00:01<00:00, 113.84it/s]"
          ],
          "name": "stderr"
        },
        {
          "output_type": "stream",
          "text": [
            "Epoch: 4 Train Loss: 0.4025 Test Accuracy: 0.7953 Test Loss: 0.6215 \n"
          ],
          "name": "stdout"
        },
        {
          "output_type": "stream",
          "text": [
            "\n"
          ],
          "name": "stderr"
        }
      ]
    },
    {
      "cell_type": "code",
      "metadata": {
        "id": "h6J2jTXlCDI5",
        "colab_type": "code",
        "colab": {}
      },
      "source": [
        "import matplotlib.pyplot as plt"
      ],
      "execution_count": 17,
      "outputs": []
    },
    {
      "cell_type": "code",
      "metadata": {
        "id": "ASeskjnOHVHQ",
        "colab_type": "code",
        "colab": {
          "base_uri": "https://localhost:8080/",
          "height": 34
        },
        "outputId": "0e8dd9b0-b6a7-49c9-d757-5a6b8660991a"
      },
      "source": [
        "info.keys()"
      ],
      "execution_count": 19,
      "outputs": [
        {
          "output_type": "execute_result",
          "data": {
            "text/plain": [
              "dict_keys(['train costs', 'test costs', 'test errors'])"
            ]
          },
          "metadata": {
            "tags": []
          },
          "execution_count": 19
        }
      ]
    },
    {
      "cell_type": "code",
      "metadata": {
        "id": "kjK9E_QkHPr2",
        "colab_type": "code",
        "colab": {
          "base_uri": "https://localhost:8080/",
          "height": 282
        },
        "outputId": "1be9c792-2d55-4042-cdf2-799145c9224a"
      },
      "source": [
        "%matplotlib inline\n",
        "plt.plot(info['test errors'])"
      ],
      "execution_count": 21,
      "outputs": [
        {
          "output_type": "execute_result",
          "data": {
            "text/plain": [
              "[<matplotlib.lines.Line2D at 0x7f88808a8438>]"
            ]
          },
          "metadata": {
            "tags": []
          },
          "execution_count": 21
        },
        {
          "output_type": "display_data",
          "data": {
            "image/png": "[encoded data removed]",
            "text/plain": [
              "<Figure size 432x288 with 1 Axes>"
            ]
          },
          "metadata": {
            "tags": [],
            "needs_background": "light"
          }
        }
      ]
    },
    {
      "cell_type": "code",
      "metadata": {
        "id": "LnX28vu8HQp7",
        "colab_type": "code",
        "colab": {}
      },
      "source": [
        ""
      ],
      "execution_count": null,
      "outputs": []
    }
  ]
}